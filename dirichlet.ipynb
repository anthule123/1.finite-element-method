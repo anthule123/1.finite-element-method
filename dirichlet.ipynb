{
 "cells": [
  {
   "cell_type": "code",
   "execution_count": 282,
   "metadata": {},
   "outputs": [],
   "source": [
    "import numpy as np\n",
    "import matplotlib.pyplot as plt\n",
    "import gauss_quad_lib \n",
    "import element_lib2"
   ]
  },
  {
   "cell_type": "code",
   "execution_count": 283,
   "metadata": {},
   "outputs": [],
   "source": [
    "N= 3\n",
    "[a,b,c,d] = [0,1,0,1]\n",
    "di = (b-a)/N\n",
    "dj = (d-c)/N\n",
    "root = [0,0]"
   ]
  },
  {
   "cell_type": "code",
   "execution_count": 284,
   "metadata": {},
   "outputs": [],
   "source": [
    "nut = np.zeros( ((N+1)*(N+1), 2))\n",
    "for i in range(0,N+1):\n",
    "    for j in range(0,N+1):\n",
    "        id = int( (N+1)*j+i)\n",
    "        nut[id] = [di*i + root[0], dj*j + root[1]] "
   ]
  },
  {
   "cell_type": "code",
   "execution_count": 285,
   "metadata": {},
   "outputs": [],
   "source": [
    "so_tam_giac = N*N*4\n",
    "triangle = np.zeros((so_tam_giac,3))\n",
    "for i in range(0,N):\n",
    "    for j in range(0,N):\n",
    "        id1 = int(i*(N+1) + j)\n",
    "        id2 = int(i*(N+1) + j+1)\n",
    "        id3 = int((i+1)*(N+1) + j)\n",
    "        id4 = int((i+1)*(N+1) + j+1)\n",
    "        triangle[2*(N*i + j)] = [id1,id3,id4]\n",
    "        triangle[2*(N*i+j)+1] = [id1,id2,id4]"
   ]
  },
  {
   "cell_type": "code",
   "execution_count": 286,
   "metadata": {},
   "outputs": [],
   "source": [
    "#set Dirichlet nut\n",
    "so_nut = (N+1)**2\n",
    "Dirichlet = np.zeros(so_nut)  #dang boolean\n",
    "val_Dirichlet = np.zeros(so_nut) #gia tri khoi tao\n",
    "\n",
    "independ_re_index = np.zeros(so_nut)     # danh so lai cho nut doc lap\n",
    "run = 0\n",
    "for i in range(0, so_nut):\n",
    "    if(i%(N+1)==0 or i%(N+1)==N or i<=N or i>=N*(N+1)):\n",
    "        Dirichlet[i] = 1\n",
    "        val_Dirichlet[i] = 0\n",
    "    else: \n",
    "        independ_re_index[i] = int(run)\n",
    "        run +=1\n",
    "Global_matrix_vt = np.zeros((run, run))\n"
   ]
  },
  {
   "cell_type": "code",
   "execution_count": 287,
   "metadata": {},
   "outputs": [],
   "source": [
    "for i in range(0, so_tam_giac):\n",
    "    for j in range(0, 3):\n",
    "        p1 = int(triangle[i][j])\n",
    "        for k in range(j+1,3):\n",
    "            p2 = int(triangle[i][k])\n",
    "            p3 = 100\n",
    "            if(j==0 and k== 1):\n",
    "                p3 = int(triangle[i][2])\n",
    "            if(j==0 and k== 2):\n",
    "                p3 = int(triangle[i][1])\n",
    "            if(j==1 and k== 2):\n",
    "                p3 = int(triangle[i][0])    \n",
    "            if(Dirichlet[p1]==0 and Dirichlet[p2]==0):\n",
    "                q1 = int(independ_re_index[p1])\n",
    "                q2 = int(independ_re_index[p2])                \n",
    "                val= element_lib2.Element_Stiff(nut[p1][0],nut[p1][1],\n",
    "                                                                       nut[p2][0],nut[p2][1],\n",
    "                                                                     nut[p3][0],nut[p3][1])\n",
    "                Global_matrix_vt[q1][q2] +=val\n",
    "                Global_matrix_vt[q2][q1] +=val\n",
    "            "
   ]
  },
  {
   "cell_type": "code",
   "execution_count": 288,
   "metadata": {},
   "outputs": [],
   "source": [
    "for i in range(0, so_tam_giac):\n",
    "    for j in range(0, 3):\n",
    "        p1 = int(triangle[i][j])\n",
    "        if(Dirichlet[p1]==0):\n",
    "            p2=0\n",
    "            p3=0\n",
    "            if(j==0):\n",
    "                p2 = int(triangle[i][1])  \n",
    "                p3 = int(triangle[i][2])  \n",
    "            if(j==1):\n",
    "                p2 = int(triangle[i][0])  \n",
    "                p3 = int(triangle[i][2]) \n",
    "            if(j==2):\n",
    "                p2 = int(triangle[i][1])  \n",
    "                p3 = int(triangle[i][0])     \n",
    "            val= element_lib2.Element_Stiff_self(nut[p1][0],nut[p1][1],\n",
    "                                                                       nut[p2][0],nut[p2][1],\n",
    "                                                                     nut[p3][0],nut[p3][1])\n",
    "            q1 = int(independ_re_index[p1])\n",
    "            Global_matrix_vt[q1][q1]+=val    \n",
    "        "
   ]
  },
  {
   "cell_type": "code",
   "execution_count": 289,
   "metadata": {},
   "outputs": [
    {
     "data": {
      "text/plain": [
       "[0.0, 0.0, 0.0, 0.0]"
      ]
     },
     "execution_count": 289,
     "metadata": {},
     "output_type": "execute_result"
    }
   ],
   "source": [
    "a = np.zeros(5)\n",
    "b = list(a)\n",
    "b.remove(0)\n",
    "b"
   ]
  },
  {
   "cell_type": "code",
   "execution_count": 290,
   "metadata": {},
   "outputs": [
    {
     "data": {
      "text/plain": [
       "4"
      ]
     },
     "execution_count": 290,
     "metadata": {},
     "output_type": "execute_result"
    }
   ],
   "source": [
    "np.linalg.matrix_rank (Global_matrix_vt)"
   ]
  },
  {
   "cell_type": "code",
   "execution_count": 291,
   "metadata": {},
   "outputs": [
    {
     "data": {
      "text/plain": [
       "array([[ 4., -1., -1.,  0.],\n",
       "       [-1.,  4.,  0., -1.],\n",
       "       [-1.,  0.,  4., -1.],\n",
       "       [ 0., -1., -1.,  4.]])"
      ]
     },
     "execution_count": 291,
     "metadata": {},
     "output_type": "execute_result"
    }
   ],
   "source": [
    "Global_matrix_vt"
   ]
  },
  {
   "cell_type": "code",
   "execution_count": 293,
   "metadata": {},
   "outputs": [],
   "source": [
    "b =[1,2,3,4]\n",
    "x = np.linalg.solve(Global_matrix_vt,b)"
   ]
  },
  {
   "cell_type": "code",
   "execution_count": null,
   "metadata": {},
   "outputs": [],
   "source": [
    "b =[1,2,3,4]\n",
    "x = np.linalg.solve(Global_matrix_vt,b)"
   ]
  }
 ],
 "metadata": {
  "interpreter": {
   "hash": "ba248839fc308c5ec13dd0046a33f2b311c21367d6f0f2fe586fee2c97db693a"
  },
  "kernelspec": {
   "display_name": "Python 3.10.4 64-bit",
   "language": "python",
   "name": "python3"
  },
  "language_info": {
   "codemirror_mode": {
    "name": "ipython",
    "version": 3
   },
   "file_extension": ".py",
   "mimetype": "text/x-python",
   "name": "python",
   "nbconvert_exporter": "python",
   "pygments_lexer": "ipython3",
   "version": "3.10.4"
  },
  "orig_nbformat": 4
 },
 "nbformat": 4,
 "nbformat_minor": 2
}
