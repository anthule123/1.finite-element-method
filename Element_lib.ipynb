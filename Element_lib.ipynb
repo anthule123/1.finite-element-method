{
 "cells": [
  {
   "cell_type": "code",
   "execution_count": 39,
   "metadata": {},
   "outputs": [],
   "source": [
    "import numpy as np\n",
    "import matplotlib.pyplot as plt\n",
    "import gauss_quad_lib "
   ]
  },
  {
   "cell_type": "code",
   "execution_count": 40,
   "metadata": {},
   "outputs": [],
   "source": [
    "def Element_Linear_Polynomial(x1,y1,x2,y2,x3,y3):\n",
    "    A = np.array([[x1,y1,1],[x2,y2,1],[x3,y3,1] ])\n",
    "    b1 = np.array([1,0,0])\n",
    "    [a,b,c] = np.linalg.solve(A,b1)\n",
    "    return lambda x,y : a*x + b*y +c\n"
   ]
  },
  {
   "cell_type": "code",
   "execution_count": 41,
   "metadata": {},
   "outputs": [],
   "source": [
    "def det(x_val,y_val,x1,y1,x2,y2):\n",
    "    return (x1-x_val)*(y2-y_val) - (x2-x_val)*(y1-y_val)\n",
    "def Element_Stiff(x1,y1,x2,y2,x3,y3):\n",
    "    A = np.array([[x1,y1,1],[x2,y2,1],[x3,y3,1] ])\n",
    "    b1 = np.array([1,0,0])\n",
    "    b2 = np.array([0,1,0]) \n",
    "    grad = np.zeros((2,2))\n",
    "    [a,b,c] = np.linalg.solve(A,b1)\n",
    "    grad[0] = [a,b]\n",
    "    [a,b,c] = np.linalg.solve(A,b2)\n",
    "    grad[1] = [a,b]\n",
    "    area_triangle = abs(det(x1,y1,x2,y2,x3,y3))/2\n",
    "    return np.dot(grad[0],grad[1]) * area_triangle"
   ]
  },
  {
   "cell_type": "code",
   "execution_count": 42,
   "metadata": {},
   "outputs": [],
   "source": [
    "def Element_Stiff_self(x1,y1,x2,y2,x3,y3):\n",
    "    A = np.array([[x1,y1,1],[x2,y2,1],[x3,y3,1] ])\n",
    "    b1 = np.array([1,0,0])\n",
    "    [a,b,c] = np.linalg.solve(A,b1)\n",
    "    area_triangle = abs(det(x1,y1,x2,y2,x3,y3))/2\n",
    "    return (a**2+ b**2) * area_triangle"
   ]
  }
 ],
 "metadata": {
  "interpreter": {
   "hash": "ba248839fc308c5ec13dd0046a33f2b311c21367d6f0f2fe586fee2c97db693a"
  },
  "kernelspec": {
   "display_name": "Python 3.10.4 64-bit",
   "language": "python",
   "name": "python3"
  },
  "language_info": {
   "codemirror_mode": {
    "name": "ipython",
    "version": 3
   },
   "file_extension": ".py",
   "mimetype": "text/x-python",
   "name": "python",
   "nbconvert_exporter": "python",
   "pygments_lexer": "ipython3",
   "version": "3.10.4"
  },
  "orig_nbformat": 4
 },
 "nbformat": 4,
 "nbformat_minor": 2
}
