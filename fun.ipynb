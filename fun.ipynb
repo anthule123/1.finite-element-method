{
 "cells": [
  {
   "cell_type": "code",
   "execution_count": 20,
   "metadata": {},
   "outputs": [
    {
     "name": "stdout",
     "output_type": "stream",
     "text": [
      "[[ 1  4  0]\n",
      " [ 8  0 11]\n",
      " [ 0  0  9]]\n"
     ]
    }
   ],
   "source": [
    "\n",
    "# Python program to create\n",
    "# sparse matrix using csc_matrix()\n",
    "  \n",
    "# Import required package\n",
    "import numpy as np\n",
    "from scipy.sparse import csc_matrix\n",
    "  \n",
    "row = np.array([0, 0, 1, 1, 2, 1])\n",
    "col = np.array([0, 1, 2, 0, 2, 2])\n",
    "  \n",
    "# taking data\n",
    "data = np.array([1, 4, 5, 8, 9, 6])\n",
    "  \n",
    "# creating sparse matrix\n",
    "sparseMatrix = csc_matrix((data, (row, col)),\n",
    "                          shape = (3, 3)).toarray()\n",
    "  \n",
    "# print the sparse matrix\n",
    "print(sparseMatrix)"
   ]
  },
  {
   "cell_type": "code",
   "execution_count": 21,
   "metadata": {},
   "outputs": [
    {
     "name": "stdout",
     "output_type": "stream",
     "text": [
      "{'a', 'c', 'b'}\n",
      "{'a', 'd', 'c', 'b'}\n"
     ]
    }
   ],
   "source": [
    "# Python program to\n",
    "# demonstrate sets\n",
    " \n",
    "# Same as {\"a\", \"b\", \"c\"}\n",
    "myset = set([\"a\", \"b\", \"c\"])\n",
    "print(myset)\n",
    " \n",
    "# Adding element to the set\n",
    "myset.add(\"d\")\n",
    "print(myset)"
   ]
  },
  {
   "cell_type": "code",
   "execution_count": 22,
   "metadata": {},
   "outputs": [
    {
     "ename": "ValueError",
     "evalue": "'dis' is not in list",
     "output_type": "error",
     "traceback": [
      "\u001b[1;31m---------------------------------------------------------------------------\u001b[0m",
      "\u001b[1;31mValueError\u001b[0m                                Traceback (most recent call last)",
      "\u001b[1;32md:\\git\\1.finite-element-method\\fun.ipynb Cell 3'\u001b[0m in \u001b[0;36m<cell line: 3>\u001b[1;34m()\u001b[0m\n\u001b[0;32m      <a href='vscode-notebook-cell:/d%3A/git/1.finite-element-method/fun.ipynb#ch0000002?line=0'>1</a>\u001b[0m streaming \u001b[39m=\u001b[39m [\u001b[39m'\u001b[39m\u001b[39mnetflix\u001b[39m\u001b[39m'\u001b[39m, \u001b[39m'\u001b[39m\u001b[39mhulu\u001b[39m\u001b[39m'\u001b[39m, \u001b[39m'\u001b[39m\u001b[39mdisney+\u001b[39m\u001b[39m'\u001b[39m, \u001b[39m'\u001b[39m\u001b[39mappletv+\u001b[39m\u001b[39m'\u001b[39m]\n\u001b[1;32m----> <a href='vscode-notebook-cell:/d%3A/git/1.finite-element-method/fun.ipynb#ch0000002?line=2'>3</a>\u001b[0m index \u001b[39m=\u001b[39m streaming\u001b[39m.\u001b[39;49mindex(\u001b[39m'\u001b[39;49m\u001b[39mdis\u001b[39;49m\u001b[39m'\u001b[39;49m)\n\u001b[0;32m      <a href='vscode-notebook-cell:/d%3A/git/1.finite-element-method/fun.ipynb#ch0000002?line=3'>4</a>\u001b[0m \u001b[39mprint\u001b[39m(\u001b[39m'\u001b[39m\u001b[39mThe index of disney+ is:\u001b[39m\u001b[39m'\u001b[39m, index)\n",
      "\u001b[1;31mValueError\u001b[0m: 'dis' is not in list"
     ]
    }
   ],
   "source": [
    "streaming = ['netflix', 'hulu', 'disney+', 'appletv+']\n",
    "\n",
    "index = streaming.index('dis')\n",
    "print('The index of disney+ is:', index)"
   ]
  },
  {
   "cell_type": "code",
   "execution_count": 23,
   "metadata": {},
   "outputs": [],
   "source": [
    "from scipy.sparse import lil_matrix\n",
    "from scipy.sparse.linalg import spsolve\n",
    "from numpy.linalg import solve, norm\n",
    "from numpy.random import rand\n",
    "import scipy"
   ]
  },
  {
   "cell_type": "code",
   "execution_count": 24,
   "metadata": {},
   "outputs": [],
   "source": [
    "A = lil_matrix((1000, 1000))\n",
    "A[0, :100] = rand(100)\n",
    "A[1, 100:200] = A[0, :100]\n",
    "A[1,2] = 3\n",
    "A.setdiag(rand(1000))"
   ]
  },
  {
   "cell_type": "code",
   "execution_count": 25,
   "metadata": {},
   "outputs": [
    {
     "data": {
      "text/plain": [
       "<1000x1000 sparse matrix of type '<class 'numpy.float64'>'\n",
       "\twith 1200 stored elements in List of Lists format>"
      ]
     },
     "execution_count": 25,
     "metadata": {},
     "output_type": "execute_result"
    }
   ],
   "source": [
    "A"
   ]
  },
  {
   "cell_type": "code",
   "execution_count": 26,
   "metadata": {},
   "outputs": [],
   "source": [
    "A = A.tocsr()\n",
    "b = rand(1000)\n",
    "x = spsolve(A, b)"
   ]
  },
  {
   "cell_type": "code",
   "execution_count": 27,
   "metadata": {},
   "outputs": [],
   "source": [
    "x_ = solve(A.toarray(), b)"
   ]
  },
  {
   "cell_type": "code",
   "execution_count": 28,
   "metadata": {},
   "outputs": [
    {
     "data": {
      "text/plain": [
       "True"
      ]
     },
     "execution_count": 28,
     "metadata": {},
     "output_type": "execute_result"
    }
   ],
   "source": [
    "err = norm(x-x_)\n",
    "err < 1e-10"
   ]
  },
  {
   "cell_type": "code",
   "execution_count": 30,
   "metadata": {},
   "outputs": [
    {
     "ename": "TypeError",
     "evalue": "bsr_matrix.__init__() missing 1 required positional argument: 'arg1'",
     "output_type": "error",
     "traceback": [
      "\u001b[1;31m---------------------------------------------------------------------------\u001b[0m",
      "\u001b[1;31mTypeError\u001b[0m                                 Traceback (most recent call last)",
      "\u001b[1;32md:\\git\\1.finite-element-method\\fun.ipynb Cell 10'\u001b[0m in \u001b[0;36m<cell line: 6>\u001b[1;34m()\u001b[0m\n\u001b[0;32m      <a href='vscode-notebook-cell:/d%3A/git/1.finite-element-method/fun.ipynb#ch0000009?line=2'>3</a>\u001b[0m R \u001b[39m=\u001b[39m \u001b[39m100\u001b[39m\n\u001b[0;32m      <a href='vscode-notebook-cell:/d%3A/git/1.finite-element-method/fun.ipynb#ch0000009?line=3'>4</a>\u001b[0m C \u001b[39m=\u001b[39m \u001b[39m100\u001b[39m\n\u001b[1;32m----> <a href='vscode-notebook-cell:/d%3A/git/1.finite-element-method/fun.ipynb#ch0000009?line=5'>6</a>\u001b[0m A \u001b[39m=\u001b[39m scipy\u001b[39m.\u001b[39;49msparse\u001b[39m.\u001b[39;49mbsr_array(blocksize\u001b[39m=\u001b[39;49m(R,C))\n",
      "\u001b[1;31mTypeError\u001b[0m: bsr_matrix.__init__() missing 1 required positional argument: 'arg1'"
     ]
    }
   ],
   "source": [
    "M =100\n",
    "N = 10\n",
    "R = 100\n",
    "C = 100\n",
    "\n",
    "A = scipy.sparse.bsr_array(blocksize=(R,C))"
   ]
  }
 ],
 "metadata": {
  "interpreter": {
   "hash": "ba248839fc308c5ec13dd0046a33f2b311c21367d6f0f2fe586fee2c97db693a"
  },
  "kernelspec": {
   "display_name": "Python 3.10.4 64-bit",
   "language": "python",
   "name": "python3"
  },
  "language_info": {
   "codemirror_mode": {
    "name": "ipython",
    "version": 3
   },
   "file_extension": ".py",
   "mimetype": "text/x-python",
   "name": "python",
   "nbconvert_exporter": "python",
   "pygments_lexer": "ipython3",
   "version": "3.10.4"
  },
  "orig_nbformat": 4
 },
 "nbformat": 4,
 "nbformat_minor": 2
}
