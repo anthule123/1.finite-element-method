{
 "cells": [
  {
   "cell_type": "code",
   "execution_count": null,
   "metadata": {},
   "outputs": [],
   "source": [
    "\n",
    "fig =plt.figure(figsize=(5,5))\n",
    "ax = fig.add_subplot(projection = '3d')\n",
    "for i in range(0, so_nut):\n",
    "    if(Dirichlet[i]):\n",
    "        ax.scatter(nut[i][0],nut[i][1],0)\n",
    "    else:\n",
    "        q1= int(independ_re_index[i])\n",
    "        ax.scatter(nut[i][0],nut[i][1], u_cord[q1])\n",
    "plt.show()"
   ]
  },
  {
   "cell_type": "code",
   "execution_count": 1,
   "metadata": {},
   "outputs": [
    {
     "data": {
      "text/plain": [
       "array([2, 4, 6])"
      ]
     },
     "execution_count": 1,
     "metadata": {},
     "output_type": "execute_result"
    }
   ],
   "source": [
    "import numpy as np\n",
    "co1 = np.array([1,2,3])\n",
    "co2 = np.array([1,2,3])\n",
    "co1 + co2"
   ]
  }
 ],
 "metadata": {
  "interpreter": {
   "hash": "ba248839fc308c5ec13dd0046a33f2b311c21367d6f0f2fe586fee2c97db693a"
  },
  "kernelspec": {
   "display_name": "Python 3.10.4 64-bit",
   "language": "python",
   "name": "python3"
  },
  "language_info": {
   "codemirror_mode": {
    "name": "ipython",
    "version": 3
   },
   "file_extension": ".py",
   "mimetype": "text/x-python",
   "name": "python",
   "nbconvert_exporter": "python",
   "pygments_lexer": "ipython3",
   "version": "3.10.4"
  },
  "orig_nbformat": 4
 },
 "nbformat": 4,
 "nbformat_minor": 2
}
