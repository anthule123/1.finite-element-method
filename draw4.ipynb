{
 "cells": [
  {
   "cell_type": "code",
   "execution_count": 7,
   "metadata": {},
   "outputs": [],
   "source": [
    "import matplotlib.pyplot as plt\n",
    "import numpy as np\n",
    "y = np.zeros(5)\n",
    "x = np.linspace(0,1,5)"
   ]
  },
  {
   "cell_type": "code",
   "execution_count": 33,
   "metadata": {},
   "outputs": [],
   "source": [
    "N = 2\n",
    "pos = np.zeros((N*N,2))\n",
    "for i in range(0, N*N):\n",
    "    ix = i//(N)\n",
    "    iy = i%(N)\n",
    "    pos[i] = [1/(N-1) * ix, iy *1/(N-1)]"
   ]
  },
  {
   "cell_type": "code",
   "execution_count": 34,
   "metadata": {},
   "outputs": [
    {
     "data": {
      "text/plain": [
       "array([[0., 0.],\n",
       "       [0., 1.],\n",
       "       [1., 0.],\n",
       "       [1., 1.]])"
      ]
     },
     "execution_count": 34,
     "metadata": {},
     "output_type": "execute_result"
    }
   ],
   "source": [
    "pos"
   ]
  },
  {
   "cell_type": "code",
   "execution_count": 17,
   "metadata": {},
   "outputs": [],
   "source": [
    "from mpl_toolkits import mplot3d\n",
    "import numpy as np\n",
    "import matplotlib.pyplot as plt\n",
    "N=5\n",
    "\n",
    "def det(x_val,y_val,x1,y1,x2,y2):\n",
    "    return (x1-x_val)*(y2-y_val) - (x2-x_val)*(y1-y_val)\n",
    "\n",
    "def Element_Stiffness_Matrix(x1,y1,x2,y2,x3,y3):\n",
    "    A = np.array([[x1,y1,1],[x2,y2,1],[x3,y3,1] ])\n",
    "    b1 = np.array([1,0,0])\n",
    "    b2 = np.array([0,1,0]) \n",
    "    b3 = np.array([0,0,1])\n",
    "    grad = np.zeros((3,2))\n",
    "    [a,b,c] = np.linalg.solve(A,b1)\n",
    "    grad[0] = [a,b]\n",
    "    [a,b,c] = np.linalg.solve(A,b2)\n",
    "    grad[1] = [a,b]\n",
    "    [a,b,c] = np.linalg.solve(A,b3)\n",
    "    grad[2] = [a,b]\n",
    "\n",
    "    res = np.zeros((3,3))\n",
    "    area_triangle = abs(det(x1,y1,x2,y2,x3,y3))/2\n",
    "    for i in range(0,3):\n",
    "        for j in range(0,3):\n",
    "            res[i][j] = np.dot(grad[i],grad[j])\n",
    "    return area_triangle * res"
   ]
  },
  {
   "cell_type": "code",
   "execution_count": 35,
   "metadata": {},
   "outputs": [],
   "source": [
    "triangle = np.zeros((N*N*2, 3))\n",
    "for i in range(0, N*N*2):\n",
    "    j = i//2\n",
    "    jx = j//N\n",
    "    jy = j%N\n",
    "    if i%2 == 0:\n",
    "        triangle[i] = [j,j+N,j+N+1]\n",
    "    else:\n",
    "        triangle[i] = [j,j+1,j+N+1]\n",
    "    "
   ]
  },
  {
   "cell_type": "code",
   "execution_count": 36,
   "metadata": {},
   "outputs": [
    {
     "data": {
      "text/plain": [
       "array([[0., 2., 3.],\n",
       "       [0., 1., 3.],\n",
       "       [1., 3., 4.],\n",
       "       [1., 2., 4.],\n",
       "       [2., 4., 5.],\n",
       "       [2., 3., 5.],\n",
       "       [3., 5., 6.],\n",
       "       [3., 4., 6.]])"
      ]
     },
     "execution_count": 36,
     "metadata": {},
     "output_type": "execute_result"
    }
   ],
   "source": [
    "triangle"
   ]
  },
  {
   "cell_type": "code",
   "execution_count": 15,
   "metadata": {},
   "outputs": [
    {
     "data": {
      "text/plain": [
       "array([[0.  , 0.  ],\n",
       "       [0.25, 0.5 ],\n",
       "       [0.5 , 0.  ],\n",
       "       [0.75, 0.5 ]])"
      ]
     },
     "execution_count": 15,
     "metadata": {},
     "output_type": "execute_result"
    }
   ],
   "source": [
    "pos"
   ]
  }
 ],
 "metadata": {
  "interpreter": {
   "hash": "0387ffdfac7c9496b32530a01f970b35f6d2f3d4f00ac0e28008c530fae92bd6"
  },
  "kernelspec": {
   "display_name": "Python 3.10.4 64-bit",
   "language": "python",
   "name": "python3"
  },
  "language_info": {
   "codemirror_mode": {
    "name": "ipython",
    "version": 3
   },
   "file_extension": ".py",
   "mimetype": "text/x-python",
   "name": "python",
   "nbconvert_exporter": "python",
   "pygments_lexer": "ipython3",
   "version": "3.10.4"
  },
  "orig_nbformat": 4
 },
 "nbformat": 4,
 "nbformat_minor": 2
}
