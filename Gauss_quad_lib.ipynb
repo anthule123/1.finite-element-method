{
 "cells": [
  {
   "cell_type": "code",
   "execution_count": 94,
   "metadata": {},
   "outputs": [],
   "source": [
    "import numpy as np\n",
    "from numpy import *\n",
    "import matplotlib.pyplot as plt"
   ]
  },
  {
   "cell_type": "code",
   "execution_count": 95,
   "metadata": {},
   "outputs": [],
   "source": [
    "def integrate_gauss_quad_segment(function, x1,y1,x2,y2):\n",
    "    x_root = [-0.906179845938664,\n",
    "                -0.5384693101056831 ,\n",
    "                0.0,\n",
    "                0.5384693101056831,\n",
    "                0.906179845938664 ]\n",
    "    weight = [0.2369268850561891,\n",
    "                0.47862867049936647,\n",
    "              0.5688888888888889,\n",
    "              0.47862867049936647,\n",
    "                0.2369268850561891 ]\n",
    "    sum = 0\n",
    "    dai = np.linalg.norm([x1-x2,y1-y2])\n",
    "    for i in range(0,5):\n",
    "        ti_le = (x_root[i]+1)/2\n",
    "        x = x1* (1-ti_le) + x2 * ti_le\n",
    "        y = y1* (1-ti_le) + y2 * ti_le\n",
    "        sum +=  dai * function(x,y) *weight[i]*0.5\n",
    "    return sum"
   ]
  },
  {
   "cell_type": "code",
   "execution_count": 96,
   "metadata": {},
   "outputs": [],
   "source": [
    "def det(x_val,y_val,x1,y1,x2,y2):\n",
    "    return (x1-x_val)*(y2-y_val) - (x2-x_val)*(y1-y_val)"
   ]
  },
  {
   "cell_type": "code",
   "execution_count": 97,
   "metadata": {},
   "outputs": [],
   "source": [
    "def integrate_gauss_quad_triangle(function, x1,y1,x2,y2,x3,y3):\n",
    "    x_quad = np.zeros((14,2))\n",
    "\n",
    "    x_quad[0]=[6.943184420297371E-002,       4.365302387072518E-002]\n",
    "    x_quad[1]=[6.943184420297371E-002,      0.214742881469342]\n",
    "    x_quad[2]= [6.943184420297371E-002,        0.465284077898513]\n",
    "    x_quad[3]=[6.943184420297371E-002,     0.715825274327684]\n",
    "    x_quad[4]=[6.943184420297371E-002,       0.886915131926301]\n",
    "    x_quad[5]=[0.330009478207572,         4.651867752656094E-002]\n",
    "    x_quad[6]=[0.330009478207572,         0.221103222500738]\n",
    "    x_quad[7] = [0.330009478207572,        0.448887299291690      ]\n",
    "    x_quad[8] = [0.330009478207572,        0.623471844265867]\n",
    "    x_quad[9] =[0.669990521792428,        3.719261778493340E-002]\n",
    "    x_quad[10]=[0.669990521792428,        0.165004739103786]\n",
    "    x_quad[11]=[0.669990521792428,        0.292816860422638]\n",
    "    x_quad[12]=[0.930568155797026,        1.467267513102734E-002]\n",
    "    x_quad[13]=[0.930568155797026,       5.475916907194637E-002]\n",
    "    weight_quad = [ 1.917346464706755E-002,\n",
    "                3.873334126144628E-002,\n",
    "                4.603770904527855E-002,\n",
    "                3.873334126144628E-002,\n",
    "                1.917346464706755E-002,\n",
    "                3.799714764789616E-002,\n",
    "                7.123562049953998E-002,\n",
    "                7.123562049953998E-002,\n",
    "                3.799714764789616E-002,\n",
    "                2.989084475992800E-002,\n",
    "                4.782535161588505E-002,\n",
    "                2.989084475992800E-002,\n",
    "                6.038050853208200E-003,\n",
    "                6.038050853208200E-003]\n",
    "    sum = 0\n",
    "    for i in range(0,14):\n",
    "        x = x1*(1-x_quad[i,0] - x_quad[i,1]) +x2*x_quad[i,0] + x3*x_quad[i,1]\n",
    "        y = y1*(1-x_quad[i,0] - x_quad[i,1]) +y2*x_quad[i,0] + y3*x_quad[i,1]\n",
    "        sum += function(x,y) * weight_quad[i]\n",
    "    sum*= abs(det(x1,y1,x2,y2,x3,y3))\n",
    "    return sum"
   ]
  },
  {
   "cell_type": "code",
   "execution_count": null,
   "metadata": {},
   "outputs": [],
   "source": []
  }
 ],
 "metadata": {
  "interpreter": {
   "hash": "ba248839fc308c5ec13dd0046a33f2b311c21367d6f0f2fe586fee2c97db693a"
  },
  "kernelspec": {
   "display_name": "Python 3.10.4 64-bit",
   "language": "python",
   "name": "python3"
  },
  "language_info": {
   "codemirror_mode": {
    "name": "ipython",
    "version": 3
   },
   "file_extension": ".py",
   "mimetype": "text/x-python",
   "name": "python",
   "nbconvert_exporter": "python",
   "pygments_lexer": "ipython3",
   "version": "3.10.4"
  },
  "orig_nbformat": 4
 },
 "nbformat": 4,
 "nbformat_minor": 2
}
