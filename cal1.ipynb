{
 "cells": [
  {
   "cell_type": "code",
   "execution_count": 23,
   "metadata": {},
   "outputs": [],
   "source": [
    "from mpl_toolkits import mplot3d\n",
    "import numpy as np\n",
    "import matplotlib.pyplot as plt\n",
    "N=5\n",
    "\n",
    "def det(x_val,y_val,x1,y1,x2,y2):\n",
    "    return (x1-x_val)*(y2-y_val) - (x2-x_val)*(y1-y_val)\n",
    "\n",
    "def Element_Matrix(x1,y1,x2,y2,x3,y3):\n",
    "    A = np.array([[x1,y1,1],[x2,y2,1],[x3,y3,1] ])\n",
    "    b1 = np.array([1,0,0])\n",
    "    b2 = np.array([0,1,0]) \n",
    "    b3 = np.array([0,0,1])\n",
    "    grad = np.zeros((3,2))\n",
    "    [a,b,c] = np.linalg.solve(A,b1)\n",
    "    grad[0] = [a,b]\n",
    "    [a,b,c] = np.linalg.solve(A,b2)\n",
    "    grad[1] = [a,b]\n",
    "    [a,b,c] = np.linalg.solve(A,b3)\n",
    "    grad[2] = [a,b]\n",
    "\n",
    "    res = np.zeros((3,3))\n",
    "    area_triangle = abs(det(x1,y1,x2,y2,x3,y3))/2\n",
    "    for i in range(0,3):\n",
    "        for j in range(0,3):\n",
    "            res[i][j] = np.dot(grad[i],grad[j])\n",
    "    return area_triangle * res"
   ]
  },
  {
   "cell_type": "code",
   "execution_count": 24,
   "metadata": {},
   "outputs": [
    {
     "data": {
      "text/plain": [
       "array([[ 1. , -0.5, -0.5],\n",
       "       [-0.5,  0.5,  0. ],\n",
       "       [-0.5,  0. ,  0.5]])"
      ]
     },
     "execution_count": 24,
     "metadata": {},
     "output_type": "execute_result"
    }
   ],
   "source": [
    "Element_Matrix(0,0, 1,0, 0, 1)"
   ]
  }
 ],
 "metadata": {
  "interpreter": {
   "hash": "0387ffdfac7c9496b32530a01f970b35f6d2f3d4f00ac0e28008c530fae92bd6"
  },
  "kernelspec": {
   "display_name": "Python 3.10.4 64-bit",
   "language": "python",
   "name": "python3"
  },
  "language_info": {
   "codemirror_mode": {
    "name": "ipython",
    "version": 3
   },
   "file_extension": ".py",
   "mimetype": "text/x-python",
   "name": "python",
   "nbconvert_exporter": "python",
   "pygments_lexer": "ipython3",
   "version": "3.10.4"
  },
  "orig_nbformat": 4
 },
 "nbformat": 4,
 "nbformat_minor": 2
}
