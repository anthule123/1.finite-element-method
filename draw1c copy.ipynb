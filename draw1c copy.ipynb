{
 "cells": [
  {
   "cell_type": "code",
   "execution_count": 23,
   "metadata": {},
   "outputs": [],
   "source": [
    "\n",
    "import numpy as np\n",
    "import matplotlib.pyplot as plt\n",
    "# reset the plot configurations to default\n",
    "\n",
    "plt.rcdefaults()\n",
    "\n",
    "# set the axes color glbally for all plots\n",
    "\n",
    "plt.rcParams.update({'axes.facecolor':'white'})\n"
   ]
  },
  {
   "cell_type": "code",
   "execution_count": 24,
   "metadata": {},
   "outputs": [],
   "source": [
    "N= 4\n",
    "[a,b,c,d] = [0,1,0,1]\n",
    "di = (b-a)/N\n",
    "dj = (d-c)/N\n",
    "root = [0,0]"
   ]
  },
  {
   "cell_type": "code",
   "execution_count": 25,
   "metadata": {},
   "outputs": [],
   "source": [
    "nut = np.zeros( ((N+1)*(N+1), 2))\n",
    "for i in range(0,N+1):\n",
    "    for j in range(0,N+1):\n",
    "        id = int( (N+1)*j+i)\n",
    "        nut[id] = [di*i + root[0], dj*j + root[1]] "
   ]
  },
  {
   "cell_type": "code",
   "execution_count": 26,
   "metadata": {},
   "outputs": [],
   "source": [
    "def draw(x1,y1,x2,y2,col):\n",
    "    plt.plot([x1,x2],[y1,y2],marker = 'o')"
   ]
  },
  {
   "cell_type": "code",
   "execution_count": 27,
   "metadata": {},
   "outputs": [
    {
     "ename": "TypeError",
     "evalue": "draw() missing 1 required positional argument: 'col'",
     "output_type": "error",
     "traceback": [
      "\u001b[1;31m---------------------------------------------------------------------------\u001b[0m",
      "\u001b[1;31mTypeError\u001b[0m                                 Traceback (most recent call last)",
      "\u001b[1;32md:\\git\\1.finite-element-method\\draw1c copy.ipynb Cell 5'\u001b[0m in \u001b[0;36m<cell line: 8>\u001b[1;34m()\u001b[0m\n\u001b[0;32m      <a href='vscode-notebook-cell:/d%3A/git/1.finite-element-method/draw1c%20copy.ipynb#ch0000004?line=7'>8</a>\u001b[0m \u001b[39mfor\u001b[39;00m i \u001b[39min\u001b[39;00m \u001b[39mrange\u001b[39m(\u001b[39m0\u001b[39m,so_nut):\n\u001b[0;32m      <a href='vscode-notebook-cell:/d%3A/git/1.finite-element-method/draw1c%20copy.ipynb#ch0000004?line=8'>9</a>\u001b[0m     \u001b[39mif\u001b[39;00m(i\u001b[39m%\u001b[39m(N\u001b[39m+\u001b[39m\u001b[39m1\u001b[39m) \u001b[39m!=\u001b[39m N):\n\u001b[1;32m---> <a href='vscode-notebook-cell:/d%3A/git/1.finite-element-method/draw1c%20copy.ipynb#ch0000004?line=9'>10</a>\u001b[0m         draw(nut[i][\u001b[39m0\u001b[39;49m],nut[i][\u001b[39m1\u001b[39;49m],nut[i\u001b[39m+\u001b[39;49m\u001b[39m1\u001b[39;49m][\u001b[39m0\u001b[39;49m],nut[i\u001b[39m+\u001b[39;49m\u001b[39m1\u001b[39;49m][\u001b[39m1\u001b[39;49m])\n\u001b[0;32m     <a href='vscode-notebook-cell:/d%3A/git/1.finite-element-method/draw1c%20copy.ipynb#ch0000004?line=10'>11</a>\u001b[0m     \u001b[39mif\u001b[39;00m(i\u001b[39m<\u001b[39mN\u001b[39m*\u001b[39m(N\u001b[39m+\u001b[39m\u001b[39m1\u001b[39m)):\n\u001b[0;32m     <a href='vscode-notebook-cell:/d%3A/git/1.finite-element-method/draw1c%20copy.ipynb#ch0000004?line=11'>12</a>\u001b[0m         draw(nut[i][\u001b[39m0\u001b[39m],nut[i][\u001b[39m1\u001b[39m],nut[i\u001b[39m+\u001b[39mN\u001b[39m+\u001b[39m\u001b[39m1\u001b[39m][\u001b[39m0\u001b[39m],nut[i\u001b[39m+\u001b[39mN\u001b[39m+\u001b[39m\u001b[39m1\u001b[39m][\u001b[39m1\u001b[39m])\n",
      "\u001b[1;31mTypeError\u001b[0m: draw() missing 1 required positional argument: 'col'"
     ]
    },
    {
     "data": {
      "text/plain": [
       "<Figure size 1000x1000 with 0 Axes>"
      ]
     },
     "metadata": {},
     "output_type": "display_data"
    },
    {
     "data": {
      "image/png": "[encoded data removed]",
      "text/plain": [
       "<Figure size 1000x1000 with 1 Axes>"
      ]
     },
     "metadata": {},
     "output_type": "display_data"
    }
   ],
   "source": [
    "so_nut = (N+1)**2\n",
    "S = max(N,10)\n",
    "plt.figure(figsize=(S,S*(d-c)/(b-a)))\n",
    "fig = plt.figure(figsize = (S,S*(d-c)/(b-a)))\n",
    "ax = fig.add_subplot()\n",
    "d=0.03\n",
    "\n",
    "for i in range(0,so_nut):\n",
    "    if(i%(N+1) != N):\n",
    "        draw(nut[i][0],nut[i][1],nut[i+1][0],nut[i+1][1])\n",
    "    if(i<N*(N+1)):\n",
    "        draw(nut[i][0],nut[i][1],nut[i+N+1][0],nut[i+N+1][1])\n",
    "    if(i%(N+1) !=0  and i<N*(N+1)):\n",
    "        draw(nut[i][0],nut[i][1],nut[i+N][0],nut[i+N][1])\n",
    "    ax.annotate(i, xy = (nut[i][0],nut[i][1]), xytext = (nut[i][0]-d,nut[i][1]-d))\n",
    "\n",
    "#tô màu Dirichlet\n",
    "#ngang\n",
    "#for i in range(0,N):\n",
    "#    draw(nut[i][0],nut[i][1],nut[i+1][0],nut[i+1][1],'green')\n",
    "#for i in range(N*(N+1),(N+1)*(N+1) - 1):\n",
    " #   draw(nut[i][0],nut[i][1],nut[i+1][0],nut[i+1][1],'green')\n",
    "#dọc\n",
    "#for i in range(0,N):\n",
    "#   draw(nut[i*(N+1)][0],nut[i*(N+1)][1],nut[(i+1)*(N+1)][0],nut[(i+1)*(N+1)][1],'green')\n",
    "#for i in range(0,N):\n",
    "#    draw(nut[i*(N+1)+N][0],nut[i*(N+1)+N][1],nut[(i+1)*(N+1)+N][0],nut[(i+1)*(N+1)+N][1],'orange')\n",
    "ax.set_xlabel('tọa độ x', fontsize = 15)\n",
    "ax.set_ylabel('tọa độ y',fontsize = 15)\n",
    "plt.show()"
   ]
  },
  {
   "cell_type": "code",
   "execution_count": null,
   "metadata": {},
   "outputs": [],
   "source": [
    "\n",
    "so_tam_giac = N*N*4\n",
    "triangle = np.zeros((so_tam_giac,3))\n",
    "for i in range(0,N):\n",
    "    for j in range(0,N):\n",
    "        id1 = int(i*(N+1) + j)\n",
    "        id2 = int(i*(N+1) + j+1)\n",
    "        id3 = int((i+1)*(N+1) + j)\n",
    "        id4 = int((i+1)*(N+1) + j+1)\n",
    "        triangle[2*(N*i + j)] = [id1,id3,id4]\n",
    "        triangle[2*(N*i+j)+1] = [id1,id2,id4]\n"
   ]
  },
  {
   "cell_type": "code",
   "execution_count": null,
   "metadata": {},
   "outputs": [
    {
     "ename": "TypeError",
     "evalue": "draw() missing 1 required positional argument: 'col'",
     "output_type": "error",
     "traceback": [
      "\u001b[1;31m---------------------------------------------------------------------------\u001b[0m",
      "\u001b[1;31mTypeError\u001b[0m                                 Traceback (most recent call last)",
      "\u001b[1;32md:\\git\\1.finite-element-method\\draw1c copy.ipynb Cell 7'\u001b[0m in \u001b[0;36m<cell line: 7>\u001b[1;34m()\u001b[0m\n\u001b[0;32m      <a href='vscode-notebook-cell:/d%3A/git/1.finite-element-method/draw1c%20copy.ipynb#ch0000006?line=6'>7</a>\u001b[0m \u001b[39mfor\u001b[39;00m i \u001b[39min\u001b[39;00m \u001b[39mrange\u001b[39m(\u001b[39m0\u001b[39m,so_nut):\n\u001b[0;32m      <a href='vscode-notebook-cell:/d%3A/git/1.finite-element-method/draw1c%20copy.ipynb#ch0000006?line=7'>8</a>\u001b[0m     \u001b[39mif\u001b[39;00m(i\u001b[39m%\u001b[39m(N\u001b[39m+\u001b[39m\u001b[39m1\u001b[39m) \u001b[39m!=\u001b[39m N):\n\u001b[1;32m----> <a href='vscode-notebook-cell:/d%3A/git/1.finite-element-method/draw1c%20copy.ipynb#ch0000006?line=8'>9</a>\u001b[0m         draw(nut[i][\u001b[39m0\u001b[39;49m],nut[i][\u001b[39m1\u001b[39;49m],nut[i\u001b[39m+\u001b[39;49m\u001b[39m1\u001b[39;49m][\u001b[39m0\u001b[39;49m],nut[i\u001b[39m+\u001b[39;49m\u001b[39m1\u001b[39;49m][\u001b[39m1\u001b[39;49m])\n\u001b[0;32m     <a href='vscode-notebook-cell:/d%3A/git/1.finite-element-method/draw1c%20copy.ipynb#ch0000006?line=9'>10</a>\u001b[0m     \u001b[39mif\u001b[39;00m(i\u001b[39m<\u001b[39mN\u001b[39m*\u001b[39m(N\u001b[39m+\u001b[39m\u001b[39m1\u001b[39m)):\n\u001b[0;32m     <a href='vscode-notebook-cell:/d%3A/git/1.finite-element-method/draw1c%20copy.ipynb#ch0000006?line=10'>11</a>\u001b[0m         draw(nut[i][\u001b[39m0\u001b[39m],nut[i][\u001b[39m1\u001b[39m],nut[i\u001b[39m+\u001b[39mN\u001b[39m+\u001b[39m\u001b[39m1\u001b[39m][\u001b[39m0\u001b[39m],nut[i\u001b[39m+\u001b[39mN\u001b[39m+\u001b[39m\u001b[39m1\u001b[39m][\u001b[39m1\u001b[39m])\n",
      "\u001b[1;31mTypeError\u001b[0m: draw() missing 1 required positional argument: 'col'"
     ]
    },
    {
     "data": {
      "text/plain": [
       "<Figure size 1000x30 with 0 Axes>"
      ]
     },
     "metadata": {},
     "output_type": "display_data"
    },
    {
     "data": {
      "image/png": "[encoded data removed]",
      "text/plain": [
       "<Figure size 1000x30 with 1 Axes>"
      ]
     },
     "metadata": {},
     "output_type": "display_data"
    }
   ],
   "source": [
    "so_nut = (N+1)**2\n",
    "S = max(N,10)\n",
    "plt.figure(figsize=(S,S*(d-c)/(b-a)))\n",
    "fig = plt.figure(figsize = (S,S*(d-c)/(b-a)))\n",
    "ax = fig.add_subplot()\n",
    "\n",
    "for i in range(0,so_nut):\n",
    "    if(i%(N+1) != N):\n",
    "        draw(nut[i][0],nut[i][1],nut[i+1][0],nut[i+1][1])\n",
    "    if(i<N*(N+1)):\n",
    "        draw(nut[i][0],nut[i][1],nut[i+N+1][0],nut[i+N+1][1])\n",
    "    if(i%(N+1) !=N  and i<N*(N+1)):\n",
    "        draw(nut[i][0],nut[i][1],nut[i+N+2][0],nut[i+N+2][1])\n",
    "    ax.annotate(i,(nut[i][0],nut[i][1]))\n",
    "ax.set_xlabel('tọa độ x', fontsize = 15)\n",
    "ax.set_ylabel('tọa độ y',fontsize = 15)\n",
    "#plot triangle\n",
    "for i in range(0,so_tam_giac):\n",
    "    x0,y0= nut[int(triangle[i,0])]\n",
    "    x1,y1= nut[int(triangle[i,1])]\n",
    "    x2,y2 = nut[int(triangle[i,2])]\n",
    "    xmean = (x0 + x1 + x2)/3.0\n",
    "    ymean= (y0 + y1 + y2)/3.0\n",
    "    ax.annotate(i, (xmean,ymean))\n",
    "plt.show()"
   ]
  }
 ],
 "metadata": {
  "interpreter": {
   "hash": "ba248839fc308c5ec13dd0046a33f2b311c21367d6f0f2fe586fee2c97db693a"
  },
  "kernelspec": {
   "display_name": "Python 3.10.4 64-bit",
   "language": "python",
   "name": "python3"
  },
  "language_info": {
   "codemirror_mode": {
    "name": "ipython",
    "version": 3
   },
   "file_extension": ".py",
   "mimetype": "text/x-python",
   "name": "python",
   "nbconvert_exporter": "python",
   "pygments_lexer": "ipython3",
   "version": "3.10.4"
  },
  "orig_nbformat": 4
 },
 "nbformat": 4,
 "nbformat_minor": 2
}
