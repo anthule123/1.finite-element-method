{
 "cells": [
  {
   "cell_type": "code",
   "execution_count": 7,
   "metadata": {},
   "outputs": [],
   "source": [
    "from numpy import *\n",
    " \n",
    "##################################################################\n",
    "# Recursive generation of the Legendre polynomial of order n\n",
    "def Legendre(n,x):\n",
    "\tx=array(x)\n",
    "\tif (n==0):\n",
    "\t    return x*0+1.0\n",
    "\telif n==1:\n",
    "\t\treturn x\n",
    "\telse:\n",
    "\t\treturn ((2.0*n-1.0)*x*Legendre(n-1,x)-(n-1)*Legendre(n-2,x))/n\n",
    " "
   ]
  },
  {
   "cell_type": "code",
   "execution_count": 8,
   "metadata": {},
   "outputs": [],
   "source": [
    "# Derivative of the Legendre polynomials\n",
    "def DLegendre(n,x):\n",
    "    x=array(x)\n",
    "    if n==0:\n",
    "\t    return x*0\n",
    "    elif (n==1):\n",
    "        return x*0+1.0\n",
    "    else:\n",
    "        return (n/(x**2-1.0))*(x*Legendre(n,x)-Legendre(n-1,x))"
   ]
  },
  {
   "cell_type": "code",
   "execution_count": 9,
   "metadata": {},
   "outputs": [],
   "source": [
    "# Roots of the polynomial obtained using Newton-Raphson method\n",
    "def LegendreRoots(polyorder,tolerance=1e-20):\n",
    "    if polyorder<2:\n",
    "        err = 1        # bad polyorder no roots can be found\n",
    "    else:\n",
    "        roots=[]\n",
    "\t\t# The polynomials are alternately even and odd functions. So we evaluate only half the number of roots. \n",
    "        for i in range(1, int(polyorder/2) +1):\n",
    "            x = cos(pi*(i-0.25)/(polyorder+0.5))\n",
    "            error = 10*tolerance\n",
    "            iters = 0\n",
    "            while (error>tolerance) and (iters<1000):\n",
    "                dx=-Legendre(polyorder,x)/DLegendre(polyorder,x)\n",
    "                x=x+dx\n",
    "                iters=iters+1\n",
    "                error=abs(dx)  \n",
    "            roots.append(x)\n",
    "\t\t# Use symmetry to get the other roots\n",
    "        roots=array(roots)\n",
    "        if polyorder%2==0:\n",
    "            roots=concatenate( (-1.0*roots, roots[::-1]) )\n",
    "        else:\n",
    "            roots=concatenate( (-1.0*roots, [0.0], roots[::-1]) )\n",
    "        err=0 # successfully determined roots\n",
    "        return [roots, err]"
   ]
  },
  {
   "cell_type": "code",
   "execution_count": 10,
   "metadata": {},
   "outputs": [],
   "source": [
    "# Weight coefficients\n",
    "def GaussLegendreWeights(polyorder):\n",
    "\tW=[]\n",
    "\t[xis,err]=LegendreRoots(polyorder)\n",
    "\tif err==0:\n",
    "\t\tW=2.0/( (1.0-xis**2)*(DLegendre(polyorder,xis)**2) )\n",
    "\t\terr=0\n",
    "\telse:\n",
    "\t\terr=1 # could not determine roots - so no weights\n",
    "\treturn [W, xis, err]"
   ]
  },
  {
   "cell_type": "code",
   "execution_count": 11,
   "metadata": {},
   "outputs": [],
   "source": [
    "# The integral value \n",
    "# func \t\t: the integrand\n",
    "# a, b \t\t: lower and upper limits of the integral\n",
    "# polyorder \t: order of the Legendre polynomial to be used\n",
    "#\n",
    "def GaussLegendreQuadrature(func, polyorder, a, b):\n",
    "\t[Ws,xs, err]= GaussLegendreWeights(polyorder)\n",
    "\tif err==0:\n",
    "\t\tans=(b-a)*0.5*sum( Ws*func( (b-a)*0.5*xs+ (b+a)*0.5 ) )\n",
    "\telse: \n",
    "\t\t# (in case of error)\n",
    "\t\terr=1\n",
    "\t\tans=None\n",
    "\treturn [ans,err]\n",
    "##################################################################\n",
    "# The integrand - change as required\n",
    "def func(x):\n",
    "\treturn exp(x)\n",
    "##################################################################\n",
    "# "
   ]
  },
  {
   "cell_type": "code",
   "execution_count": 12,
   "metadata": {},
   "outputs": [
    {
     "name": "stdout",
     "output_type": "stream",
     "text": [
      "Order    :  5\n",
      "Roots    :  [-0.90617985 -0.53846931  0.          0.53846931  0.90617985]\n",
      "Weights  :  [0.23692689 0.47862867 0.56888889 0.47862867 0.23692689]\n",
      "Integral :  20.035577718385564\n"
     ]
    }
   ],
   "source": [
    "order = 5\n",
    "[Ws,xs,err] = GaussLegendreWeights(order)\n",
    "if err==0:\n",
    "\tprint (\"Order    : \", order)\n",
    "\tprint (\"Roots    : \", xs)\n",
    "\tprint (\"Weights  : \", Ws)\n",
    "else:\n",
    "\tprint (\"Roots/Weights evaluation failed\")\n",
    " \n",
    "# Integrating the function\n",
    "[ans,err]=GaussLegendreQuadrature(func , order, -3,3)\n",
    "if err==0:\n",
    "\tprint (\"Integral : \", ans)\n",
    "else:\n",
    "\tprint (\"Integral evaluation failed\")"
   ]
  },
  {
   "cell_type": "code",
   "execution_count": 13,
   "metadata": {},
   "outputs": [
    {
     "data": {
      "text/plain": [
       "(5,)"
      ]
     },
     "execution_count": 13,
     "metadata": {},
     "output_type": "execute_result"
    }
   ],
   "source": [
    "Ws.shape"
   ]
  },
  {
   "cell_type": "code",
   "execution_count": 14,
   "metadata": {},
   "outputs": [],
   "source": [
    "def func2 (x):\n",
    "    return x**4"
   ]
  },
  {
   "cell_type": "code",
   "execution_count": 15,
   "metadata": {},
   "outputs": [
    {
     "name": "stdout",
     "output_type": "stream",
     "text": [
      "Integral :  97.20000000000002\n"
     ]
    }
   ],
   "source": [
    "[ans,err]=GaussLegendreQuadrature(func2 , order, -3,3)\n",
    "if err==0:\n",
    "\tprint (\"Integral : \", ans)\n",
    "else:\n",
    "\tprint (\"Integral evaluation failed\")"
   ]
  },
  {
   "cell_type": "code",
   "execution_count": 16,
   "metadata": {},
   "outputs": [
    {
     "data": {
      "text/plain": [
       "[<matplotlib.lines.Line2D at 0x28424d26ef0>]"
      ]
     },
     "execution_count": 16,
     "metadata": {},
     "output_type": "execute_result"
    },
    {
     "data": {
      "image/png": "[encoded data removed]",
      "text/plain": [
       "<Figure size 432x288 with 1 Axes>"
      ]
     },
     "metadata": {},
     "output_type": "display_data"
    }
   ],
   "source": [
    "import numpy as np \n",
    "import matplotlib.pyplot as plt\n",
    "x = np.linspace(-1,1,100)\n",
    "y = Legendre(5,x)\n",
    "plt.plot(x,y)"
   ]
  },
  {
   "cell_type": "code",
   "execution_count": 17,
   "metadata": {},
   "outputs": [],
   "source": [
    "yroot = np.zeros(10)\n",
    "[xroot,er] = LegendreRoots(10)\n"
   ]
  },
  {
   "cell_type": "code",
   "execution_count": 18,
   "metadata": {},
   "outputs": [
    {
     "data": {
      "text/plain": [
       "[<matplotlib.lines.Line2D at 0x28424dfaf20>]"
      ]
     },
     "execution_count": 18,
     "metadata": {},
     "output_type": "execute_result"
    },
    {
     "data": {
      "image/png": "[encoded data removed]",
      "text/plain": [
       "<Figure size 432x288 with 1 Axes>"
      ]
     },
     "metadata": {},
     "output_type": "display_data"
    }
   ],
   "source": [
    "#plt.plot(xroot,yroot, marker = 'o')\n",
    "plt.plot(xroot,yroot,marker = 'o')"
   ]
  }
 ],
 "metadata": {
  "interpreter": {
   "hash": "ba248839fc308c5ec13dd0046a33f2b311c21367d6f0f2fe586fee2c97db693a"
  },
  "kernelspec": {
   "display_name": "Python 3.10.4 64-bit",
   "language": "python",
   "name": "python3"
  },
  "language_info": {
   "codemirror_mode": {
    "name": "ipython",
    "version": 3
   },
   "file_extension": ".py",
   "mimetype": "text/x-python",
   "name": "python",
   "nbconvert_exporter": "python",
   "pygments_lexer": "ipython3",
   "version": "3.10.4"
  },
  "orig_nbformat": 4
 },
 "nbformat": 4,
 "nbformat_minor": 2
}
