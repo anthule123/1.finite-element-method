{
 "cells": [
  {
   "cell_type": "code",
   "execution_count": 4,
   "metadata": {},
   "outputs": [
    {
     "name": "stdout",
     "output_type": "stream",
     "text": [
      "[[ 1  4  0]\n",
      " [ 8  0 11]\n",
      " [ 0  0  9]]\n"
     ]
    }
   ],
   "source": [
    "\n",
    "# Python program to create\n",
    "# sparse matrix using csc_matrix()\n",
    "  \n",
    "# Import required package\n",
    "import numpy as np\n",
    "import scipy\n",
    "from scipy.sparse import csc_matrix\n",
    "  \n",
    "row = np.array([0, 0, 1, 1, 2, 1])\n",
    "col = np.array([0, 1, 2, 0, 2, 2])\n",
    "  \n",
    "# taking data\n",
    "data = np.array([1, 4, 5, 8, 9, 6])\n",
    "  \n",
    "# creating sparse matrix\n",
    "sparseMatrix = csc_matrix((data, (row, col)),\n",
    "                          shape = (3, 3)).toarray()\n",
    "  \n",
    "# print the sparse matrix\n",
    "print(sparseMatrix)"
   ]
  }
 ],
 "metadata": {
  "interpreter": {
   "hash": "ba248839fc308c5ec13dd0046a33f2b311c21367d6f0f2fe586fee2c97db693a"
  },
  "kernelspec": {
   "display_name": "Python 3.10.4 64-bit",
   "language": "python",
   "name": "python3"
  },
  "language_info": {
   "codemirror_mode": {
    "name": "ipython",
    "version": 3
   },
   "file_extension": ".py",
   "mimetype": "text/x-python",
   "name": "python",
   "nbconvert_exporter": "python",
   "pygments_lexer": "ipython3",
   "version": "3.10.4"
  },
  "orig_nbformat": 4
 },
 "nbformat": 4,
 "nbformat_minor": 2
}
