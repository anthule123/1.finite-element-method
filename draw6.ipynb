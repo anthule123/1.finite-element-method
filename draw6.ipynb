{
 "cells": [
  {
   "cell_type": "code",
   "execution_count": 1,
   "metadata": {},
   "outputs": [],
   "source": [
    "import matplotlib.pyplot as plt\n",
    "import numpy as np\n",
    "N = 3\n",
    "pos = np.zeros((N*N,2))\n",
    "for i in range(0, N*N):\n",
    "    ix = i//(N)\n",
    "    iy = i%(N)\n",
    "    pos[i] = [1/(N-1) * ix, iy *1/(N-1)]"
   ]
  },
  {
   "cell_type": "code",
   "execution_count": 2,
   "metadata": {},
   "outputs": [],
   "source": [
    "triangle = np.zeros(((N-1)*(N-1)*2, 3))\n",
    "for i in range(0, (N-1)*(N-1)*2):\n",
    "    j = i//2\n",
    "    jx = j//(N-1)\n",
    "    jy = j%(N-1)\n",
    "    k = jx + jy*N\n",
    "    if i%2 == 1:\n",
    "        triangle[i] = [k,k+N,k+N+1]\n",
    "    else:\n",
    "        triangle[i] = [k,k+1,k+N+1]\n",
    "    "
   ]
  },
  {
   "cell_type": "code",
   "execution_count": 3,
   "metadata": {},
   "outputs": [
    {
     "data": {
      "text/plain": [
       "array([[0., 1., 4.],\n",
       "       [0., 3., 4.],\n",
       "       [3., 4., 7.],\n",
       "       [3., 6., 7.],\n",
       "       [1., 2., 5.],\n",
       "       [1., 4., 5.],\n",
       "       [4., 5., 8.],\n",
       "       [4., 7., 8.]])"
      ]
     },
     "execution_count": 3,
     "metadata": {},
     "output_type": "execute_result"
    }
   ],
   "source": [
    "triangle"
   ]
  },
  {
   "cell_type": "code",
   "execution_count": 4,
   "metadata": {},
   "outputs": [
    {
     "data": {
      "text/plain": [
       "<Figure size 720x720 with 0 Axes>"
      ]
     },
     "metadata": {},
     "output_type": "display_data"
    },
    {
     "data": {
      "image/png": "[encoded data removed]",
      "text/plain": [
       "<Figure size 432x288 with 1 Axes>"
      ]
     },
     "metadata": {},
     "output_type": "display_data"
    }
   ],
   "source": [
    "def draw(x1,y1,x2,y2):\n",
    "    plt.plot([x1,x2],[y1,y2],marker='o')\n",
    "import matplotlib.pyplot as plt\n",
    "x = np.linspace(0,1,N)\n",
    "y= np.linspace(0,1,N)\n",
    "plt.figure(figsize=(5,5))\n",
    "\n",
    "fig, ax = plt.subplots()\n",
    "\n",
    "for i in range(0,N*N):\n",
    "   ax.annotate(i, (pos[i][0], pos[i][1]))\n",
    "for i in range(0,N):\n",
    "    for j in range(1,N):\n",
    "        draw(x[j-1],y[i],x[j],y[i])\n",
    "        draw(x[i],y[j-1],x[i],y[j])\n",
    "        if i >=1:\n",
    "            draw(x[i-1],y[j-1],x[i],y[j])\n",
    "#plot triangle\n",
    "for i in range(0,(N-1)**2*2):\n",
    "    x0,y0= pos[int(triangle[i,0])]\n",
    "    x1,y1= pos[int(triangle[i,1])]\n",
    "    x2,y2 = pos[int(triangle[i,2])]\n",
    "    xmean = (x0 + x1 + x2)/3.0\n",
    "    ymean= (y0 + y1 + y2)/3.0\n",
    "    ax.annotate(i, (xmean,ymean))\n",
    "plt.show()"
   ]
  },
  {
   "cell_type": "code",
   "execution_count": 5,
   "metadata": {},
   "outputs": [],
   "source": [
    "def Assemble_Stiffness_Matrix(GMatrix,Ematrix, index):\n",
    "    for i in range(0,3):\n",
    "        for j in range(0,3):\n",
    "            GMatrix[index[i]][index[j]] += Ematrix[i][j]\n"
   ]
  },
  {
   "cell_type": "code",
   "execution_count": 6,
   "metadata": {},
   "outputs": [],
   "source": [
    "def det(x_val,y_val,x1,y1,x2,y2):\n",
    "    return (x1-x_val)*(y2-y_val) - (x2-x_val)*(y1-y_val)\n",
    "\n",
    "def Element_Stiffness_Matrix(x1,y1,x2,y2,x3,y3):\n",
    "    A = np.array([[x1,y1,1],[x2,y2,1],[x3,y3,1] ])\n",
    "    b1 = np.array([1,0,0])\n",
    "    b2 = np.array([0,1,0]) \n",
    "    b3 = np.array([0,0,1])\n",
    "    grad = np.zeros((3,2))\n",
    "    [a,b,c] = np.linalg.solve(A,b1)\n",
    "    grad[0] = [a,b]\n",
    "    [a,b,c] = np.linalg.solve(A,b2)\n",
    "    grad[1] = [a,b]\n",
    "    [a,b,c] = np.linalg.solve(A,b3)\n",
    "    grad[2] = [a,b]\n",
    "\n",
    "    res = np.zeros((3,3))\n",
    "    area_triangle = abs(det(x1,y1,x2,y2,x3,y3))/2\n",
    "    for i in range(0,3):\n",
    "        for j in range(0,3):\n",
    "            res[i][j] = np.dot(grad[i],grad[j])\n",
    "    return area_triangle * res"
   ]
  },
  {
   "cell_type": "code",
   "execution_count": 7,
   "metadata": {},
   "outputs": [],
   "source": [
    "K = np.zeros(((N*N,N*N)))\n",
    "for i in range(0,2*(N-1)**2):\n",
    "    tam = triangle[i].astype(int) \n",
    "    x0,y0= pos[int(triangle[i,0])]\n",
    "    x1,y1= pos[int(triangle[i,1])]\n",
    "    x2,y2 = pos[int(triangle[i,2])]\n",
    "    k = Element_Stiffness_Matrix(x0,y0,x1,y1,x2,y2)\n",
    "    Assemble_Stiffness_Matrix(K,k,tam)\n",
    "    "
   ]
  },
  {
   "cell_type": "code",
   "execution_count": 8,
   "metadata": {},
   "outputs": [
    {
     "data": {
      "text/plain": [
       "array([[ 1. , -0.5,  0. , -0.5,  0. ,  0. ,  0. ,  0. ,  0. ],\n",
       "       [-0.5,  2. , -0.5,  0. , -1. ,  0. ,  0. ,  0. ,  0. ],\n",
       "       [ 0. , -0.5,  1. ,  0. ,  0. , -0.5,  0. ,  0. ,  0. ],\n",
       "       [-0.5,  0. ,  0. ,  2. , -1. ,  0. , -0.5,  0. ,  0. ],\n",
       "       [ 0. , -1. ,  0. , -1. ,  4. , -1. ,  0. , -1. ,  0. ],\n",
       "       [ 0. ,  0. , -0.5,  0. , -1. ,  2. ,  0. ,  0. , -0.5],\n",
       "       [ 0. ,  0. ,  0. , -0.5,  0. ,  0. ,  1. , -0.5,  0. ],\n",
       "       [ 0. ,  0. ,  0. ,  0. , -1. ,  0. , -0.5,  2. , -0.5],\n",
       "       [ 0. ,  0. ,  0. ,  0. ,  0. , -0.5,  0. , -0.5,  1. ]])"
      ]
     },
     "execution_count": 8,
     "metadata": {},
     "output_type": "execute_result"
    }
   ],
   "source": [
    "K"
   ]
  },
  {
   "cell_type": "code",
   "execution_count": null,
   "metadata": {},
   "outputs": [],
   "source": []
  }
 ],
 "metadata": {
  "interpreter": {
   "hash": "ba248839fc308c5ec13dd0046a33f2b311c21367d6f0f2fe586fee2c97db693a"
  },
  "kernelspec": {
   "display_name": "Python 3.10.4 64-bit",
   "language": "python",
   "name": "python3"
  },
  "language_info": {
   "codemirror_mode": {
    "name": "ipython",
    "version": 3
   },
   "file_extension": ".py",
   "mimetype": "text/x-python",
   "name": "python",
   "nbconvert_exporter": "python",
   "pygments_lexer": "ipython3",
   "version": "3.10.4"
  },
  "orig_nbformat": 4
 },
 "nbformat": 4,
 "nbformat_minor": 2
}
